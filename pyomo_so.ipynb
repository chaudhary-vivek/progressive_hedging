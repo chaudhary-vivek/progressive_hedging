{
 "cells": [
  {
   "cell_type": "code",
   "execution_count": 3,
   "metadata": {},
   "outputs": [
    {
     "name": "stdout",
     "output_type": "stream",
     "text": [
      "WARNING: Could not locate the 'glpsol' executable, which is required for\n",
      "solver 'glpk'\n"
     ]
    },
    {
     "ename": "ApplicationError",
     "evalue": "No executable found for solver 'glpk'",
     "output_type": "error",
     "traceback": [
      "\u001b[0;31m---------------------------------------------------------------------------\u001b[0m",
      "\u001b[0;31mApplicationError\u001b[0m                          Traceback (most recent call last)",
      "Cell \u001b[0;32mIn[3], line 68\u001b[0m\n\u001b[1;32m     66\u001b[0m \u001b[38;5;66;03m# Solve the model\u001b[39;00m\n\u001b[1;32m     67\u001b[0m solver \u001b[38;5;241m=\u001b[39m pyopt\u001b[38;5;241m.\u001b[39mSolverFactory(\u001b[38;5;124m'\u001b[39m\u001b[38;5;124mglpk\u001b[39m\u001b[38;5;124m'\u001b[39m)\n\u001b[0;32m---> 68\u001b[0m results \u001b[38;5;241m=\u001b[39m \u001b[43msolver\u001b[49m\u001b[38;5;241;43m.\u001b[39;49m\u001b[43msolve\u001b[49m\u001b[43m(\u001b[49m\u001b[43mmodel\u001b[49m\u001b[43m)\u001b[49m\n\u001b[1;32m     70\u001b[0m \u001b[38;5;66;03m# Print results\u001b[39;00m\n\u001b[1;32m     71\u001b[0m \u001b[38;5;28mprint\u001b[39m(\u001b[38;5;124m\"\u001b[39m\u001b[38;5;124mOptimal objective value:\u001b[39m\u001b[38;5;124m\"\u001b[39m, pyo\u001b[38;5;241m.\u001b[39mvalue(model\u001b[38;5;241m.\u001b[39mobj))\n",
      "File \u001b[0;32m~/anaconda3/envs/milp/lib/python3.12/site-packages/pyomo/opt/base/solvers.py:534\u001b[0m, in \u001b[0;36mOptSolver.solve\u001b[0;34m(self, *args, **kwds)\u001b[0m\n\u001b[1;32m    531\u001b[0m \u001b[38;5;28;01mdef\u001b[39;00m \u001b[38;5;21msolve\u001b[39m(\u001b[38;5;28mself\u001b[39m, \u001b[38;5;241m*\u001b[39margs, \u001b[38;5;241m*\u001b[39m\u001b[38;5;241m*\u001b[39mkwds):\n\u001b[1;32m    532\u001b[0m \u001b[38;5;250m    \u001b[39m\u001b[38;5;124;03m\"\"\"Solve the problem\"\"\"\u001b[39;00m\n\u001b[0;32m--> 534\u001b[0m     \u001b[38;5;28;43mself\u001b[39;49m\u001b[38;5;241;43m.\u001b[39;49m\u001b[43mavailable\u001b[49m\u001b[43m(\u001b[49m\u001b[43mexception_flag\u001b[49m\u001b[38;5;241;43m=\u001b[39;49m\u001b[38;5;28;43;01mTrue\u001b[39;49;00m\u001b[43m)\u001b[49m\n\u001b[1;32m    535\u001b[0m     \u001b[38;5;66;03m#\u001b[39;00m\n\u001b[1;32m    536\u001b[0m     \u001b[38;5;66;03m# If the inputs are models, then validate that they have been\u001b[39;00m\n\u001b[1;32m    537\u001b[0m     \u001b[38;5;66;03m# constructed! Collect suffix names to try and import from solution.\u001b[39;00m\n\u001b[1;32m    538\u001b[0m     \u001b[38;5;66;03m#\u001b[39;00m\n\u001b[1;32m    539\u001b[0m     \u001b[38;5;28;01mfrom\u001b[39;00m \u001b[38;5;21;01mpyomo\u001b[39;00m\u001b[38;5;21;01m.\u001b[39;00m\u001b[38;5;21;01mcore\u001b[39;00m\u001b[38;5;21;01m.\u001b[39;00m\u001b[38;5;21;01mbase\u001b[39;00m\u001b[38;5;21;01m.\u001b[39;00m\u001b[38;5;21;01mblock\u001b[39;00m \u001b[38;5;28;01mimport\u001b[39;00m BlockData\n",
      "File \u001b[0;32m~/anaconda3/envs/milp/lib/python3.12/site-packages/pyomo/opt/solver/shellcmd.py:140\u001b[0m, in \u001b[0;36mSystemCallSolver.available\u001b[0;34m(self, exception_flag)\u001b[0m\n\u001b[1;32m    138\u001b[0m     \u001b[38;5;28;01mif\u001b[39;00m exception_flag:\n\u001b[1;32m    139\u001b[0m         msg \u001b[38;5;241m=\u001b[39m \u001b[38;5;124m\"\u001b[39m\u001b[38;5;124mNo executable found for solver \u001b[39m\u001b[38;5;124m'\u001b[39m\u001b[38;5;132;01m%s\u001b[39;00m\u001b[38;5;124m'\u001b[39m\u001b[38;5;124m\"\u001b[39m\n\u001b[0;32m--> 140\u001b[0m         \u001b[38;5;28;01mraise\u001b[39;00m ApplicationError(msg \u001b[38;5;241m%\u001b[39m \u001b[38;5;28mself\u001b[39m\u001b[38;5;241m.\u001b[39mname)\n\u001b[1;32m    141\u001b[0m     \u001b[38;5;28;01mreturn\u001b[39;00m \u001b[38;5;28;01mFalse\u001b[39;00m\n\u001b[1;32m    142\u001b[0m \u001b[38;5;28;01mreturn\u001b[39;00m \u001b[38;5;28;01mTrue\u001b[39;00m\n",
      "\u001b[0;31mApplicationError\u001b[0m: No executable found for solver 'glpk'"
     ]
    }
   ],
   "source": [
    "import pyomo.environ as pyo\n",
    "import pyomo.opt as pyopt\n",
    "import numpy as np\n",
    "\n",
    "# Define the problem data\n",
    "num_facilities = 3\n",
    "num_customers = 5\n",
    "num_scenarios = 3\n",
    "\n",
    "# Fixed costs for opening facilities\n",
    "fixed_costs = [100000, 120000, 90000]\n",
    "\n",
    "# Transportation costs from facilities to customers\n",
    "trans_costs = [\n",
    "    [10, 15, 20, 25, 30],\n",
    "    [12, 14, 18, 22, 26],\n",
    "    [8, 16, 24, 32, 40]\n",
    "]\n",
    "\n",
    "# Facility capacities\n",
    "capacities = [5000, 6000, 4500]\n",
    "\n",
    "# Generate random demand scenarios\n",
    "np.random.seed(42)\n",
    "demand_mean = 1000\n",
    "demand_std = 200\n",
    "demand_scenarios = np.random.normal(demand_mean, demand_std, (num_scenarios, num_customers))\n",
    "demand_scenarios = np.clip(demand_scenarios, 0, None)  # Ensure non-negative demand\n",
    "\n",
    "# Scenario probabilities (assuming equal probabilities for simplicity)\n",
    "scenario_probs = [1/num_scenarios] * num_scenarios\n",
    "\n",
    "# Create the model\n",
    "model = pyo.ConcreteModel()\n",
    "\n",
    "# First stage decision variables: Facility opening\n",
    "model.open_facility = pyo.Var(range(num_facilities), within=pyo.Binary)\n",
    "\n",
    "# Second stage decision variables: Distribution amounts\n",
    "model.distribute = pyo.Var(range(num_facilities), range(num_customers), range(num_scenarios), within=pyo.NonNegativeReals)\n",
    "\n",
    "# Objective function\n",
    "def obj_rule(model):\n",
    "    fixed_cost = sum(fixed_costs[i] * model.open_facility[i] for i in range(num_facilities))\n",
    "    transport_cost = sum(scenario_probs[s] * sum(trans_costs[i][j] * model.distribute[i,j,s] \n",
    "                         for i in range(num_facilities) for j in range(num_customers))\n",
    "                         for s in range(num_scenarios))\n",
    "    return fixed_cost + transport_cost\n",
    "\n",
    "model.obj = pyo.Objective(rule=obj_rule, sense=pyo.minimize)\n",
    "\n",
    "# Constraints\n",
    "\n",
    "# Capacity constraints\n",
    "def capacity_rule(model, i, s):\n",
    "    return sum(model.distribute[i,j,s] for j in range(num_customers)) <= capacities[i] * model.open_facility[i]\n",
    "\n",
    "model.capacity_const = pyo.Constraint(range(num_facilities), range(num_scenarios), rule=capacity_rule)\n",
    "\n",
    "# Demand satisfaction constraints\n",
    "def demand_rule(model, j, s):\n",
    "    return sum(model.distribute[i,j,s] for i in range(num_facilities)) >= demand_scenarios[s][j]\n",
    "\n",
    "model.demand_const = pyo.Constraint(range(num_customers), range(num_scenarios), rule=demand_rule)\n",
    "\n",
    "# Solve the model\n",
    "solver = pyopt.SolverFactory('glpk')\n",
    "results = solver.solve(model)\n",
    "\n",
    "# Print results\n",
    "print(\"Optimal objective value:\", pyo.value(model.obj))\n",
    "print(\"\\nFacilities to open:\")\n",
    "for i in range(num_facilities):\n",
    "    if pyo.value(model.open_facility[i]) > 0.5:\n",
    "        print(f\"Facility {i}\")\n",
    "\n",
    "print(\"\\nAverage distribution amounts:\")\n",
    "avg_distribution = {(i,j): sum(scenario_probs[s] * pyo.value(model.distribute[i,j,s]) \n",
    "                               for s in range(num_scenarios)) \n",
    "                    for i in range(num_facilities) for j in range(num_customers)}\n",
    "for (i,j), amount in avg_distribution.items():\n",
    "    if amount > 0:\n",
    "        print(f\"From Facility {i} to Customer {j}: {amount:.2f}\")"
   ]
  }
 ],
 "metadata": {
  "kernelspec": {
   "display_name": "milp",
   "language": "python",
   "name": "python3"
  },
  "language_info": {
   "codemirror_mode": {
    "name": "ipython",
    "version": 3
   },
   "file_extension": ".py",
   "mimetype": "text/x-python",
   "name": "python",
   "nbconvert_exporter": "python",
   "pygments_lexer": "ipython3",
   "version": "3.12.4"
  }
 },
 "nbformat": 4,
 "nbformat_minor": 2
}
