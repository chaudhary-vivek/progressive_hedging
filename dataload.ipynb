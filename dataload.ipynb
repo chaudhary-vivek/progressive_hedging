{
 "cells": [
  {
   "cell_type": "code",
   "execution_count": 4,
   "metadata": {},
   "outputs": [],
   "source": [
    "from  smps_loader import load_smps"
   ]
  },
  {
   "cell_type": "code",
   "execution_count": 7,
   "metadata": {},
   "outputs": [
    {
     "data": {
      "text/plain": [
       "dict_keys(['name', 'objective_name', 'constraints', 'variables', 'c', 'A', 'rhs_names', 'rhs', 'bounds', 'periods', 'blocks', 'independent_variables'])"
      ]
     },
     "execution_count": 7,
     "metadata": {},
     "output_type": "execute_result"
    }
   ],
   "source": [
    "file = load_smps('/Users/vivekchaudhary/Documents/progressive_hedging/smkp/smkp_1')\n",
    "\n",
    "file.keys()"
   ]
  }
 ],
 "metadata": {
  "kernelspec": {
   "display_name": "milp",
   "language": "python",
   "name": "python3"
  },
  "language_info": {
   "codemirror_mode": {
    "name": "ipython",
    "version": 3
   },
   "file_extension": ".py",
   "mimetype": "text/x-python",
   "name": "python",
   "nbconvert_exporter": "python",
   "pygments_lexer": "ipython3",
   "version": "3.12.4"
  }
 },
 "nbformat": 4,
 "nbformat_minor": 2
}
