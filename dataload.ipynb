{
 "cells": [
  {
   "cell_type": "code",
   "execution_count": 10,
   "metadata": {},
   "outputs": [],
   "source": [
    "from pysmps import smps_loader as smps"
   ]
  },
  {
   "cell_type": "code",
   "execution_count": 15,
   "metadata": {},
   "outputs": [
    {
     "ename": "IndexError",
     "evalue": "list index out of range",
     "output_type": "error",
     "traceback": [
      "\u001b[0;31m---------------------------------------------------------------------------\u001b[0m",
      "\u001b[0;31mIndexError\u001b[0m                                Traceback (most recent call last)",
      "Cell \u001b[0;32mIn[15], line 1\u001b[0m\n\u001b[0;32m----> 1\u001b[0m file \u001b[38;5;241m=\u001b[39m \u001b[43msmps\u001b[49m\u001b[38;5;241;43m.\u001b[39;49m\u001b[43mload_smps\u001b[49m\u001b[43m(\u001b[49m\u001b[38;5;124;43m'\u001b[39;49m\u001b[38;5;124;43m/Users/vivekchaudhary/Documents/progressive_hedging/smkp/smkp_1\u001b[39;49m\u001b[38;5;124;43m'\u001b[39;49m\u001b[43m)\u001b[49m\n",
      "File \u001b[0;32m~/anaconda3/envs/milp/lib/python3.12/site-packages/pysmps/smps_loader.py:462\u001b[0m, in \u001b[0;36mload_smps\u001b[0;34m(path)\u001b[0m\n\u001b[1;32m    461\u001b[0m \u001b[38;5;28;01mdef\u001b[39;00m \u001b[38;5;21mload_smps\u001b[39m(path):\n\u001b[0;32m--> 462\u001b[0m     name, objective_name, row_names, col_names, col_types, types, c, A, rhs_names, rhs, bnd_names, bnd \u001b[38;5;241m=\u001b[39m \u001b[43mload_mps\u001b[49m\u001b[43m(\u001b[49m\u001b[43mpath\u001b[49m\u001b[43m \u001b[49m\u001b[38;5;241;43m+\u001b[39;49m\u001b[43m \u001b[49m\u001b[38;5;124;43m\"\u001b[39;49m\u001b[38;5;124;43m.cor\u001b[39;49m\u001b[38;5;124;43m\"\u001b[39;49m\u001b[43m)\u001b[49m\n\u001b[1;32m    463\u001b[0m     periods, row_periods, col_periods \u001b[38;5;241m=\u001b[39m _load_time_file(path, name, row_names, col_names)\n\u001b[1;32m    464\u001b[0m     blocks, independent_variables \u001b[38;5;241m=\u001b[39m _load_stoch_file(path, name, objective_name, row_names, col_names, rhs_names)\n",
      "File \u001b[0;32m~/anaconda3/envs/milp/lib/python3.12/site-packages/pysmps/smps_loader.py:371\u001b[0m, in \u001b[0;36mload_mps\u001b[0;34m(path)\u001b[0m\n\u001b[1;32m    369\u001b[0m     \u001b[38;5;28;01mcontinue\u001b[39;00m\n\u001b[1;32m    370\u001b[0m \u001b[38;5;28;01mif\u001b[39;00m line[\u001b[38;5;241m0\u001b[39m] \u001b[38;5;241m==\u001b[39m \u001b[38;5;124m\"\u001b[39m\u001b[38;5;124mNAME\u001b[39m\u001b[38;5;124m\"\u001b[39m:\n\u001b[0;32m--> 371\u001b[0m     name \u001b[38;5;241m=\u001b[39m \u001b[43mline\u001b[49m\u001b[43m[\u001b[49m\u001b[38;5;241;43m1\u001b[39;49m\u001b[43m]\u001b[49m\n\u001b[1;32m    372\u001b[0m \u001b[38;5;28;01melif\u001b[39;00m line[\u001b[38;5;241m0\u001b[39m] \u001b[38;5;129;01min\u001b[39;00m [CORE_FILE_ROW_MODE, CORE_FILE_COL_MODE]:\n\u001b[1;32m    373\u001b[0m     mode \u001b[38;5;241m=\u001b[39m line[\u001b[38;5;241m0\u001b[39m]\n",
      "\u001b[0;31mIndexError\u001b[0m: list index out of range"
     ]
    }
   ],
   "source": [
    "file = smps.load_smps('/Users/vivekchaudhary/Documents/progressive_hedging/smkp/smkp_1')"
   ]
  }
 ],
 "metadata": {
  "kernelspec": {
   "display_name": "milp",
   "language": "python",
   "name": "python3"
  },
  "language_info": {
   "codemirror_mode": {
    "name": "ipython",
    "version": 3
   },
   "file_extension": ".py",
   "mimetype": "text/x-python",
   "name": "python",
   "nbconvert_exporter": "python",
   "pygments_lexer": "ipython3",
   "version": "3.12.4"
  }
 },
 "nbformat": 4,
 "nbformat_minor": 2
}
